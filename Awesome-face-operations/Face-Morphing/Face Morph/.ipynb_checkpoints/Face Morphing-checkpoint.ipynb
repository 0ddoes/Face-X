{
 "cells": [
  {
   "cell_type": "markdown",
   "id": "41b580bb",
   "metadata": {},
   "source": [
    "## Importing the Libraries"
   ]
  },
  {
   "cell_type": "code",
   "execution_count": 17,
   "id": "38efcbb9",
   "metadata": {},
   "outputs": [],
   "source": [
    "import numpy as np\n",
    "import cv2\n",
    "import sys"
   ]
  },
  {
   "cell_type": "code",
   "execution_count": 18,
   "id": "5ffc0825",
   "metadata": {},
   "outputs": [],
   "source": [
    "def readPoints(path):\n",
    "    points = []\n",
    "    with open(path) as file:\n",
    "        for line in file:\n",
    "            x,y = line.split()\n",
    "            points.append(int(x),int(y))\n",
    "    return points"
   ]
  },
  {
   "cell_type": "code",
   "execution_count": 19,
   "id": "0019af02",
   "metadata": {},
   "outputs": [],
   "source": [
    "def applyAffineTransform(src,srcTri,dstTri,size):\n",
    "    warpMat = cv2.getAffineTransform(np.float32(srcTri),np.float32(dstTri))\n",
    "    dst = cv2.warpAffine(src,warpMat,(size[0],size[1]),None,flags = cv2.INTER_LINEAR,borderMode = cv2.BORDER_REFLECT_101)\n",
    "    return dst"
   ]
  },
  {
   "cell_type": "code",
   "execution_count": 20,
   "id": "f208a4ce",
   "metadata": {},
   "outputs": [],
   "source": [
    "def morphTriangle(img1,img2,img,t1,t2,t,alpha):\n",
    "    r1 = cv2.boundingRect(np.float32([t1]))\n",
    "    r2 = cv2.boundingRect(np.float32([t2]))\n",
    "    r = cv2.boundingRect(np.float32([t]))\n",
    "    t1Rect = []\n",
    "    t2Rect = []\n",
    "    tRect = []\n",
    "    \n",
    "    for i in range(0,3):\n",
    "        tRect.append(((t[i][0]-r[0]),(t[i][1]-r[1])))\n",
    "        t1Rect.append(((t1[i][0]-r1[0]),(t1[i][1]-r1[1])))\n",
    "        t2Rect.append(((t2[i][0]-r2[0]),(t2[i][1]-r2[1])))\n",
    "        \n",
    "    mask = np.zeros((r[3],r[2],3),dtype = np.float32)\n",
    "    cv2.fillConvexPoly(mask,np.int32(tRect),(1.0,1.0,1.0),16,0)\n",
    "    \n",
    "    img1Rect = img1[r1[1]:r1[1]+r1[3],r1[0]:r1[0]+r1[2]]\n",
    "    img2Rect = img2[r2[1]:r2[1]+r2[3],r2[0]:r2[0]+r2[2]]\n",
    "    \n",
    "    size = (r[2],r[3])\n",
    "    warpImage1 = applyAffineTransform(img1Rect,t1Rect,tRect,size)\n",
    "    warpImage2 = applyAffineTransform(img2Rect,t2Rect,tRect,size)\n",
    "    \n",
    "    imgRect = (1.0-alpha)*warpImage1+alpha*warpImage2\n",
    "    \n",
    "    img[r[1]:r[1]+r3,r[0]:r[0]+r[2]] = img[r[1]:r[1]+r[3],r[0]:r[0]+r[2]]*(1-mask)+imgRect*mask\n",
    "    "
   ]
  },
  {
   "cell_type": "code",
   "execution_count": 21,
   "id": "55a5caac",
   "metadata": {},
   "outputs": [
    {
     "ename": "FileNotFoundError",
     "evalue": "[Errno 2] No such file or directory: 'tatya.jpg.txt'",
     "output_type": "error",
     "traceback": [
      "\u001b[1;31m---------------------------------------------------------------------------\u001b[0m",
      "\u001b[1;31mFileNotFoundError\u001b[0m                         Traceback (most recent call last)",
      "\u001b[1;32m<ipython-input-21-ffd37719e10f>\u001b[0m in \u001b[0;36m<module>\u001b[1;34m\u001b[0m\n\u001b[0;32m     10\u001b[0m     \u001b[0mimg2\u001b[0m \u001b[1;33m=\u001b[0m \u001b[0mnp\u001b[0m\u001b[1;33m.\u001b[0m\u001b[0mfloat32\u001b[0m\u001b[1;33m(\u001b[0m\u001b[0mimg2\u001b[0m\u001b[1;33m)\u001b[0m\u001b[1;33m\u001b[0m\u001b[1;33m\u001b[0m\u001b[0m\n\u001b[0;32m     11\u001b[0m \u001b[1;33m\u001b[0m\u001b[0m\n\u001b[1;32m---> 12\u001b[1;33m     \u001b[0mpoints1\u001b[0m \u001b[1;33m=\u001b[0m \u001b[0mreadPoints\u001b[0m\u001b[1;33m(\u001b[0m\u001b[0mfilename1\u001b[0m\u001b[1;33m+\u001b[0m\u001b[1;34m'.txt'\u001b[0m\u001b[1;33m)\u001b[0m\u001b[1;33m\u001b[0m\u001b[1;33m\u001b[0m\u001b[0m\n\u001b[0m\u001b[0;32m     13\u001b[0m     \u001b[0mpoints2\u001b[0m \u001b[1;33m=\u001b[0m \u001b[0mreadPoints\u001b[0m\u001b[1;33m(\u001b[0m\u001b[0mfilename2\u001b[0m\u001b[1;33m+\u001b[0m\u001b[1;34m'.txt'\u001b[0m\u001b[1;33m)\u001b[0m\u001b[1;33m\u001b[0m\u001b[1;33m\u001b[0m\u001b[0m\n\u001b[0;32m     14\u001b[0m     \u001b[0mpoints\u001b[0m \u001b[1;33m=\u001b[0m \u001b[1;33m[\u001b[0m\u001b[1;33m]\u001b[0m\u001b[1;33m\u001b[0m\u001b[1;33m\u001b[0m\u001b[0m\n",
      "\u001b[1;32m<ipython-input-18-c4e14ff852d4>\u001b[0m in \u001b[0;36mreadPoints\u001b[1;34m(path)\u001b[0m\n\u001b[0;32m      1\u001b[0m \u001b[1;32mdef\u001b[0m \u001b[0mreadPoints\u001b[0m\u001b[1;33m(\u001b[0m\u001b[0mpath\u001b[0m\u001b[1;33m)\u001b[0m\u001b[1;33m:\u001b[0m\u001b[1;33m\u001b[0m\u001b[1;33m\u001b[0m\u001b[0m\n\u001b[0;32m      2\u001b[0m     \u001b[0mpoints\u001b[0m \u001b[1;33m=\u001b[0m \u001b[1;33m[\u001b[0m\u001b[1;33m]\u001b[0m\u001b[1;33m\u001b[0m\u001b[1;33m\u001b[0m\u001b[0m\n\u001b[1;32m----> 3\u001b[1;33m     \u001b[1;32mwith\u001b[0m \u001b[0mopen\u001b[0m\u001b[1;33m(\u001b[0m\u001b[0mpath\u001b[0m\u001b[1;33m)\u001b[0m \u001b[1;32mas\u001b[0m \u001b[0mfile\u001b[0m\u001b[1;33m:\u001b[0m\u001b[1;33m\u001b[0m\u001b[1;33m\u001b[0m\u001b[0m\n\u001b[0m\u001b[0;32m      4\u001b[0m         \u001b[1;32mfor\u001b[0m \u001b[0mline\u001b[0m \u001b[1;32min\u001b[0m \u001b[0mfile\u001b[0m\u001b[1;33m:\u001b[0m\u001b[1;33m\u001b[0m\u001b[1;33m\u001b[0m\u001b[0m\n\u001b[0;32m      5\u001b[0m             \u001b[0mx\u001b[0m\u001b[1;33m,\u001b[0m\u001b[0my\u001b[0m \u001b[1;33m=\u001b[0m \u001b[0mline\u001b[0m\u001b[1;33m.\u001b[0m\u001b[0msplit\u001b[0m\u001b[1;33m(\u001b[0m\u001b[1;33m)\u001b[0m\u001b[1;33m\u001b[0m\u001b[1;33m\u001b[0m\u001b[0m\n",
      "\u001b[1;31mFileNotFoundError\u001b[0m: [Errno 2] No such file or directory: 'tatya.jpg.txt'"
     ]
    }
   ],
   "source": [
    "if __name__ == '__main__':\n",
    "    filename1 = 'donald_trump.jpg'\n",
    "    filename2 = 'hillary_clinton.jpg'\n",
    "    alpha = 0.5\n",
    "    \n",
    "    img1 = cv2.imread(filename1)\n",
    "    img2 = cv2.imread(filename2)\n",
    "    \n",
    "    img1 = np.float32(img1)\n",
    "    img2 = np.float32(img2)\n",
    "    \n",
    "    points1 = readPoints(filename1+'.txt')\n",
    "    points2 = readPoints(filename2+'.txt')\n",
    "    points = []\n",
    "    \n",
    "    for i in range(0,len(points1)):\n",
    "        x = (1-alpha)*points1[i][0]+alpha*points2[i][0]\n",
    "        x = (1-alpha)*points1[i][1]+alpha*points2[i][1]\n",
    "        points.append((x,y))\n",
    "        \n",
    "    imgMorph = np.zeros(img1.shape,dtype = img1.dtype)\n",
    "    \n",
    "    with open(\"tri.txt\") as file:\n",
    "        for line in file:\n",
    "            x,y,z = line.split()\n",
    "            \n",
    "            x = int(x)\n",
    "            y = int(y)\n",
    "            z = int(z)\n",
    "            \n",
    "            t1 = [points1[x],points1[y],points1[z]]\n",
    "            t1 = [points2[x],points2[y],points2[z]]\n",
    "            t1 = [points[x],points[y],points[z]]\n",
    "            \n",
    "            morphTriangle(img1,img2,imgMorph,t1,t2,t,alpha)\n",
    "        \n",
    "    cv2.imshow(\"Morphed Face\".np.uint8(imgMorph))\n",
    "    cv2.waitKey(0)\n",
    "            "
   ]
  }
 ],
 "metadata": {
  "kernelspec": {
   "display_name": "Python 3",
   "language": "python",
   "name": "python3"
  },
  "language_info": {
   "codemirror_mode": {
    "name": "ipython",
    "version": 3
   },
   "file_extension": ".py",
   "mimetype": "text/x-python",
   "name": "python",
   "nbconvert_exporter": "python",
   "pygments_lexer": "ipython3",
   "version": "3.9.6"
  }
 },
 "nbformat": 4,
 "nbformat_minor": 5
}
